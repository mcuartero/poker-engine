{
 "cells": [
  {
   "cell_type": "code",
   "execution_count": 1,
   "id": "86639bf6",
   "metadata": {},
   "outputs": [],
   "source": [
    "from deck import Deck"
   ]
  },
  {
   "cell_type": "code",
   "execution_count": 2,
   "id": "636913ff",
   "metadata": {},
   "outputs": [
    {
     "name": "stdout",
     "output_type": "stream",
     "text": [
      "Deck has 52 cards.\n"
     ]
    }
   ],
   "source": [
    "deck = Deck()\n",
    "deck.build()\n",
    "print(f\"Deck has {len(deck)} cards.\")"
   ]
  },
  {
   "cell_type": "code",
   "execution_count": 3,
   "id": "7fbcacbf",
   "metadata": {},
   "outputs": [
    {
     "name": "stdout",
     "output_type": "stream",
     "text": [
      "Dealt card: Five of Clubs\n"
     ]
    }
   ],
   "source": [
    "deck.shuffle()\n",
    "card = deck.deal()\n",
    "print(f\"Dealt card: {card}\")\n"
   ]
  },
  {
   "cell_type": "code",
   "execution_count": 4,
   "id": "80cae01b",
   "metadata": {},
   "outputs": [
    {
     "name": "stdout",
     "output_type": "stream",
     "text": [
      "Deck now has 51 cards left.\n"
     ]
    }
   ],
   "source": [
    "print(f\"Deck now has {len(deck)} cards left.\")"
   ]
  }
 ],
 "metadata": {
  "kernelspec": {
   "display_name": "Python 3",
   "language": "python",
   "name": "python3"
  },
  "language_info": {
   "codemirror_mode": {
    "name": "ipython",
    "version": 3
   },
   "file_extension": ".py",
   "mimetype": "text/x-python",
   "name": "python",
   "nbconvert_exporter": "python",
   "pygments_lexer": "ipython3",
   "version": "3.12.4"
  }
 },
 "nbformat": 4,
 "nbformat_minor": 5
}
